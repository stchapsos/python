{
 "cells": [
  {
   "cell_type": "code",
   "execution_count": 1,
   "id": "6941058f",
   "metadata": {},
   "outputs": [
    {
     "name": "stdout",
     "output_type": "stream",
     "text": [
      "a = 230\n",
      "b = 2.3333333333333335\n",
      "c = 2\n",
      "d = 1\n"
     ]
    }
   ],
   "source": [
    "#Exercise 1\n",
    "\n",
    "a = 5 + 225\n",
    "\n",
    "\n",
    "b = 7/3\n",
    "c = 7//3\n",
    "d = 7%3\n",
    "\n",
    "print(\"a =\",a)\n",
    "print(\"b =\",b)\n",
    "print(\"c =\",c)\n",
    "print(\"d =\",d)"
   ]
  },
  {
   "cell_type": "code",
   "execution_count": 2,
   "id": "a5be4312",
   "metadata": {},
   "outputs": [
    {
     "name": "stdout",
     "output_type": "stream",
     "text": [
      "----------------------------------------\n"
     ]
    }
   ],
   "source": [
    "#Exercise 2\n",
    "\n",
    "str1 = \"\".center(40,\"-\")\n",
    "print(str1)"
   ]
  },
  {
   "cell_type": "code",
   "execution_count": 3,
   "id": "f00210eb",
   "metadata": {},
   "outputs": [
    {
     "name": "stdout",
     "output_type": "stream",
     "text": [
      "John is a great web developer\n"
     ]
    }
   ],
   "source": [
    "#Exercise 3\n",
    "\n",
    "dirty = \"John=is-a-great web developer\\t    \"\n",
    "clean = dirty.replace(\"=\", \" \").replace(\"-\", \" \").strip()\n",
    "print(clean)"
   ]
  },
  {
   "cell_type": "code",
   "execution_count": 5,
   "id": "7a21aac4",
   "metadata": {},
   "outputs": [
    {
     "name": "stdout",
     "output_type": "stream",
     "text": [
      "Give your firts name: Stelios\n",
      "Give your last name: Chapsos\n",
      "Give your age: 27\n",
      "Give your occupation: Data Analyst\n",
      "New user Stelios Chapsos, 27 years old Data Analyst, has been registered in the system\n"
     ]
    }
   ],
   "source": [
    "#Exercise 4\n",
    "\n",
    "fname = input(\"Give your firts name: \")\n",
    "lname = input(\"Give your last name: \")\n",
    "age = input(\"Give your age: \")\n",
    "occ = input(\"Give your occupation: \")\n",
    "\n",
    "print(f\"New user {fname} {lname}, {age} years old {occ}, has been registered in the system\")"
   ]
  },
  {
   "cell_type": "code",
   "execution_count": 6,
   "id": "a77be546",
   "metadata": {},
   "outputs": [
    {
     "name": "stdout",
     "output_type": "stream",
     "text": [
      "[10, 20, 30, 40, 50, 60, 70, 80, 90, 100]\n"
     ]
    }
   ],
   "source": [
    "#Exercise 5\n",
    "\n",
    "lst1 = [ num*10 for num in range(1,11)]\n",
    "\n",
    "print(lst1)"
   ]
  },
  {
   "cell_type": "code",
   "execution_count": 7,
   "id": "87ff60db",
   "metadata": {},
   "outputs": [
    {
     "name": "stdout",
     "output_type": "stream",
     "text": [
      "14490\n"
     ]
    }
   ],
   "source": [
    "#Exersice 6\n",
    "\n",
    "x = [3,5,23,6,7]\n",
    "\n",
    "y = 1\n",
    "for num in x:\n",
    "    y *= num\n",
    "print(y)\n"
   ]
  },
  {
   "cell_type": "code",
   "execution_count": 8,
   "id": "15d429de",
   "metadata": {
    "scrolled": true
   },
   "outputs": [
    {
     "name": "stdout",
     "output_type": "stream",
     "text": [
      "Give an integer: 6\n",
      "21\n"
     ]
    }
   ],
   "source": [
    "#Exercise 7\n",
    "\n",
    "n = int(input(\"Give an integer: \"))\n",
    "\n",
    "print(sum(range(1,n+1)))"
   ]
  },
  {
   "cell_type": "code",
   "execution_count": 9,
   "id": "1616db19",
   "metadata": {},
   "outputs": [
    {
     "name": "stdout",
     "output_type": "stream",
     "text": [
      "77\n"
     ]
    }
   ],
   "source": [
    "#Exercise 8\n",
    "\n",
    "x = [44,32,65,77,12,86]\n",
    "\n",
    "sorted_x = sorted(x, reverse=True)\n",
    "print(sorted_x[1])"
   ]
  },
  {
   "cell_type": "code",
   "execution_count": 10,
   "id": "33320161",
   "metadata": {},
   "outputs": [
    {
     "name": "stdout",
     "output_type": "stream",
     "text": [
      "Apple-Grapes-Berry-Orange\n"
     ]
    }
   ],
   "source": [
    "#Exercise 9\n",
    "\n",
    "fruits = ['Apple', 'Grapes', 'Berry', 'Orange']\n",
    "\n",
    "joined = '-'.join(fruits)\n",
    "print(joined)"
   ]
  },
  {
   "cell_type": "code",
   "execution_count": 11,
   "id": "6d40536d",
   "metadata": {},
   "outputs": [
    {
     "name": "stdout",
     "output_type": "stream",
     "text": [
      "[32, 3, 5, 4, 2, 6, 7, 8]\n"
     ]
    }
   ],
   "source": [
    "#Exercise 10\n",
    "\n",
    "x = [32,3,5,4,4,3,2,6,4,5,6,7,8]\n",
    "\n",
    "no_dups = []\n",
    "for num in x:\n",
    "    if num not in no_dups:\n",
    "        no_dups.append(num)\n",
    "        \n",
    "print(no_dups)"
   ]
  },
  {
   "cell_type": "code",
   "execution_count": 12,
   "id": "b6337052",
   "metadata": {},
   "outputs": [
    {
     "name": "stdout",
     "output_type": "stream",
     "text": [
      "['Data Science']\n"
     ]
    }
   ],
   "source": [
    "#Exercise 11\n",
    "\n",
    "lst = [1,2,[3,4],[5,[100,200,['Data Science']],23,11],1,7]\n",
    "\n",
    "print(lst[3][1][2])"
   ]
  },
  {
   "cell_type": "code",
   "execution_count": 13,
   "id": "db879f3e",
   "metadata": {},
   "outputs": [
    {
     "name": "stdout",
     "output_type": "stream",
     "text": [
      "[2, 7, 1, 8, 3, 0, 9]\n"
     ]
    }
   ],
   "source": [
    "#Exercise 12\n",
    "\n",
    "x = [2,4,5,6,7,1,6,8]\n",
    "y = [3,4,5,6,0,3,9]\n",
    "\n",
    "z = []\n",
    "\n",
    "for num in x:\n",
    "    if num not in y:\n",
    "        z.append(num)\n",
    "\n",
    "for num in y:\n",
    "    if num not in x:\n",
    "        z.append(num)\n",
    "\n",
    "no_dup_z = []\n",
    "for i in z:\n",
    "    if i not in no_dup_z:\n",
    "        no_dup_z.append(i)\n",
    "        \n",
    "print(no_dup_z)\n",
    "\n"
   ]
  },
  {
   "cell_type": "code",
   "execution_count": 4,
   "id": "f93f70ac",
   "metadata": {},
   "outputs": [
    {
     "name": "stdout",
     "output_type": "stream",
     "text": [
      "[4, 67, 8, 0, 32, 0, 21]\n"
     ]
    }
   ],
   "source": [
    "#Exercise 13\n",
    "\n",
    "x = [4, 67, 8, 'None', 32, 'Missing', 21]\n",
    "\n",
    "x = [0 if isinstance(i, str) else i for i in x]\n",
    "\n",
    "print(x)"
   ]
  },
  {
   "cell_type": "code",
   "execution_count": 14,
   "id": "ff559a23",
   "metadata": {},
   "outputs": [
    {
     "name": "stdout",
     "output_type": "stream",
     "text": [
      "[1, 2, 3, 5, 6, 7, [5, 6, 7], 8]\n"
     ]
    }
   ],
   "source": [
    "#Exercise 14\n",
    "\n",
    "primary_list = [1, [2, 3], 4, [5, 6, 7], 8]\n",
    "\n",
    "for index, element in enumerate(primary_list[:]):\n",
    "    if isinstance(element, list):\n",
    "        primary_list.pop(index)\n",
    "        primary_list[index:index] = element\n",
    "\n",
    "print(primary_list)\n"
   ]
  },
  {
   "cell_type": "code",
   "execution_count": 15,
   "id": "1a2bd2f7",
   "metadata": {},
   "outputs": [
    {
     "name": "stdout",
     "output_type": "stream",
     "text": [
      "[32, 2, 3, 4, 5, 6, 7, 8]\n"
     ]
    }
   ],
   "source": [
    "#Exercise 15\n",
    "\n",
    "x = [32,3,5,4,4,3,2,6,4,5,6,7,8]\n",
    "\n",
    "new_list = list(set(x))\n",
    "print(new_list)"
   ]
  },
  {
   "cell_type": "code",
   "execution_count": 16,
   "id": "3d33d9b3",
   "metadata": {},
   "outputs": [
    {
     "name": "stdout",
     "output_type": "stream",
     "text": [
      "[0, 1, 2, 3, 4, 5, 6, 7, 8, 9]\n"
     ]
    }
   ],
   "source": [
    "#Exercise 16\n",
    "\n",
    "x = [2,4,5,6,7,1,6,8]\n",
    "y = [3,4,5,6,0,3,9]\n",
    "\n",
    "x.extend(y)\n",
    "z = list(set(x))\n",
    "print(z)"
   ]
  },
  {
   "cell_type": "code",
   "execution_count": 17,
   "id": "36cc029e",
   "metadata": {},
   "outputs": [
    {
     "name": "stdout",
     "output_type": "stream",
     "text": [
      "cylinder\n"
     ]
    }
   ],
   "source": [
    "#Exercise 17\n",
    "\n",
    "d = {'section':{'production':['wheel','tyre',{'engine':['pistons','valves','cylinder']}, 'door']}, 'development':'gearbox'}\n",
    "\n",
    "print(d['section']['production'][2]['engine'][2])"
   ]
  },
  {
   "cell_type": "code",
   "execution_count": 18,
   "id": "31ae0285",
   "metadata": {},
   "outputs": [
    {
     "data": {
      "text/plain": [
       "0"
      ]
     },
     "execution_count": 18,
     "metadata": {},
     "output_type": "execute_result"
    }
   ],
   "source": [
    "#Exercise 18\n",
    "\n",
    "careers = ['programmer', 'truck driver', 'data analyst', 'progect manager']\n",
    "\n",
    "careers.index('programmer')\n"
   ]
  },
  {
   "cell_type": "code",
   "execution_count": 19,
   "id": "8b834dd9",
   "metadata": {},
   "outputs": [
    {
     "name": "stdout",
     "output_type": "stream",
     "text": [
      "Programmer is in the careers list\n"
     ]
    }
   ],
   "source": [
    "if 'programmer' in careers:\n",
    "    print(\"Programmer is in the careers list\")"
   ]
  },
  {
   "cell_type": "code",
   "execution_count": 20,
   "id": "83f56b0e",
   "metadata": {},
   "outputs": [
    {
     "name": "stdout",
     "output_type": "stream",
     "text": [
      "['programmer', 'truck driver', 'data analyst', 'progect manager', 'engineer']\n"
     ]
    }
   ],
   "source": [
    "careers.append('engineer')\n",
    "print(careers)"
   ]
  },
  {
   "cell_type": "code",
   "execution_count": 21,
   "id": "373ba98b",
   "metadata": {},
   "outputs": [
    {
     "name": "stdout",
     "output_type": "stream",
     "text": [
      "['web developer', 'programmer', 'truck driver', 'data analyst', 'progect manager', 'engineer']\n"
     ]
    }
   ],
   "source": [
    "careers.insert(0,'web developer')\n",
    "print(careers)"
   ]
  },
  {
   "cell_type": "code",
   "execution_count": 22,
   "id": "53cd89ac",
   "metadata": {},
   "outputs": [
    {
     "name": "stdout",
     "output_type": "stream",
     "text": [
      "web developer\n",
      "programmer\n",
      "truck driver\n",
      "data analyst\n",
      "progect manager\n",
      "engineer\n"
     ]
    }
   ],
   "source": [
    "for job in careers:\n",
    "    print(job)"
   ]
  },
  {
   "cell_type": "code",
   "execution_count": 23,
   "id": "d91ab452",
   "metadata": {},
   "outputs": [
    {
     "name": "stdout",
     "output_type": "stream",
     "text": [
      "web developer\n",
      "truck driver\n",
      "programmer\n",
      "progect manager\n",
      "engineer\n",
      "data analyst\n"
     ]
    }
   ],
   "source": [
    "careers.sort(reverse=True)\n",
    "for job in careers:\n",
    "    print(job)"
   ]
  },
  {
   "cell_type": "code",
   "execution_count": 24,
   "id": "625a553f",
   "metadata": {},
   "outputs": [
    {
     "name": "stdout",
     "output_type": "stream",
     "text": [
      "data analyst\n",
      "engineer\n",
      "progect manager\n",
      "programmer\n",
      "truck driver\n",
      "web developer\n"
     ]
    }
   ],
   "source": [
    "for job in sorted(careers): \n",
    "    print(job)"
   ]
  },
  {
   "cell_type": "code",
   "execution_count": 25,
   "id": "0ed86b98",
   "metadata": {},
   "outputs": [
    {
     "name": "stdout",
     "output_type": "stream",
     "text": [
      "['a', 'b', 'c']\n"
     ]
    }
   ],
   "source": [
    "#Exercise 19\n",
    "\n",
    "alphabet = [\"a\",\"b\",\"c\",\"d\",\"e\",\"f\",\"g\",\"h\",\"i\",\"j\"]\n",
    "\n",
    "print(alphabet[:3])"
   ]
  },
  {
   "cell_type": "code",
   "execution_count": 26,
   "id": "f3885d98",
   "metadata": {},
   "outputs": [
    {
     "name": "stdout",
     "output_type": "stream",
     "text": [
      "['d', 'e', 'f']\n"
     ]
    }
   ],
   "source": [
    "print(alphabet[3:6])"
   ]
  },
  {
   "cell_type": "code",
   "execution_count": 27,
   "id": "07a64571",
   "metadata": {},
   "outputs": [
    {
     "name": "stdout",
     "output_type": "stream",
     "text": [
      "['d', 'e', 'f', 'g', 'h', 'i', 'j']\n"
     ]
    }
   ],
   "source": [
    "print(alphabet[3:])"
   ]
  },
  {
   "cell_type": "code",
   "execution_count": 28,
   "id": "310f14f3",
   "metadata": {},
   "outputs": [
    {
     "name": "stdout",
     "output_type": "stream",
     "text": [
      "True\n",
      "False\n"
     ]
    }
   ],
   "source": [
    "#Exercise 20\n",
    "\n",
    "def is_string(par):\n",
    "    return type(par) == str\n",
    "\n",
    "print(is_string('hi'))\n",
    "print(is_string(123))"
   ]
  },
  {
   "cell_type": "code",
   "execution_count": 29,
   "id": "4f5730f2",
   "metadata": {},
   "outputs": [
    {
     "name": "stdout",
     "output_type": "stream",
     "text": [
      "True\n"
     ]
    }
   ],
   "source": [
    "#Exercise 21\n",
    "\n",
    "str2 = 'St. Moritz is a nice location to visit over Christmas holidays!'\n",
    "print('holiday' in str2)"
   ]
  },
  {
   "cell_type": "code",
   "execution_count": 30,
   "id": "013dcf07",
   "metadata": {},
   "outputs": [
    {
     "name": "stdout",
     "output_type": "stream",
     "text": [
      "['9', '8', '7', '6', '5', '4', '3', '2', '1']\n"
     ]
    }
   ],
   "source": [
    "#Exercise 22\n",
    "\n",
    "rnd = 918273645\n",
    "\n",
    "rev = sorted(str(rnd), reverse=True)\n",
    "print(rev)"
   ]
  },
  {
   "cell_type": "code",
   "execution_count": null,
   "id": "90e70162",
   "metadata": {},
   "outputs": [],
   "source": [
    "#Exercise 23\n",
    "\n",
    "data = {'part 1':['a','b'], 'part 2':['c','d']}\n",
    "\n",
    "# ???"
   ]
  },
  {
   "cell_type": "code",
   "execution_count": 31,
   "id": "2cdc2233",
   "metadata": {},
   "outputs": [
    {
     "name": "stdout",
     "output_type": "stream",
     "text": [
      "3065\n",
      "255.41666666666666\n"
     ]
    }
   ],
   "source": [
    "#Exercise 24\n",
    "\n",
    "electricity_bill = {\n",
    "        'January': 232,\n",
    "        'February': 245,\n",
    "        'March': 267,\n",
    "        'April': 223,\n",
    "        'May': 257,\n",
    "        'June': 284,\n",
    "        'July': 243,\n",
    "        'August': 120,\n",
    "        'September': 245,\n",
    "        'October': 278,\n",
    "        'November': 345,\n",
    "        'December': 326,\n",
    "}\n",
    "\n",
    "total = sum(electricity_bill.values())\n",
    "print(total)\n",
    "\n",
    "avg = total/len(electricity_bill)\n",
    "print(avg)"
   ]
  },
  {
   "cell_type": "code",
   "execution_count": 32,
   "id": "3493a6c8",
   "metadata": {},
   "outputs": [
    {
     "name": "stdout",
     "output_type": "stream",
     "text": [
      "['A', 'D', 'F', 'B', 'D', 'A']\n"
     ]
    }
   ],
   "source": [
    "#Exercise 25\n",
    "\n",
    "grades = [91,64,47,82,67,96]\n",
    "\n",
    "for i in range(len(grades)):\n",
    "    if grades[i] >= 90:\n",
    "        grades[i] = \"A\"\n",
    "    elif 80<=grades[i]<90:\n",
    "        grades[i] = \"B\"\n",
    "    elif 70<=grades[i]<80:\n",
    "        grades[i] = \"C\"\n",
    "    elif 60<=grades[i]<70:\n",
    "        grades[i] = \"D\"\n",
    "    else:\n",
    "        grades[i] = \"F\"\n",
    "print(grades)"
   ]
  },
  {
   "cell_type": "code",
   "execution_count": null,
   "id": "f045ae00",
   "metadata": {},
   "outputs": [],
   "source": [
    "#Exercise 26\n",
    "\n",
    "temperature = {\n",
    "        'June': [25, 25, 26, 27, 25, 25, 24, 27, 28, 28, 31, 32, 33],\n",
    "        'July': [34, 34, 36, 39, 39, 38, 39, 37, 39, 41, 41, 39, 37],\n",
    "        'August': [37, 37, 36, 37, 35, 35, 34, 37, 38, 34, 32, 33, 31],\n",
    "}\n",
    "\n",
    "hottest_month = ''\n",
    "coldest_month = ''\n",
    "max_temp = float('-inf')\n",
    "min_temp = float('inf')\n",
    "\n",
    "for month, temps in temperature.items():\n",
    "    if max(temps) > max_temp:\n",
    "        max_temp = max(temps)\n",
    "        hottest_month = month\n",
    "    if min(temps) < min_temp:\n",
    "        min_temp = min(temps)\n",
    "        coldest_month = month\n",
    "\n",
    "print(\"Hottest month:\", hottest_month)\n",
    "print(\"Coldest month:\", coldest_month)\n"
   ]
  },
  {
   "cell_type": "code",
   "execution_count": 33,
   "id": "b90d82b4",
   "metadata": {},
   "outputs": [
    {
     "name": "stdout",
     "output_type": "stream",
     "text": [
      "[4, 16, 36, 64, 100]\n"
     ]
    }
   ],
   "source": [
    "#Exercise 27\n",
    "\n",
    "#Make a list of the squares of the even numbers between 1 to 10\n",
    "\n",
    "square_even = [num**2 for num in range(2,11,2)]\n",
    "print(square_even)"
   ]
  },
  {
   "cell_type": "code",
   "execution_count": 34,
   "id": "453de531",
   "metadata": {},
   "outputs": [
    {
     "name": "stdout",
     "output_type": "stream",
     "text": [
      "Enter numbers: 19 92 43 50 66 8 11\n",
      "Even numbers: [92, 50, 66, 8]\n"
     ]
    }
   ],
   "source": [
    "#Exercise 28\n",
    "\n",
    "#Create a function that takes a list of numbers and returns a list with only the ones that are even.\n",
    "\n",
    "\n",
    "def get_even_numbers():\n",
    "    numbers = input(\"Enter numbers: \").split()\n",
    "    numbers = [int(num) for num in numbers]\n",
    "    even_numbers = [num for num in numbers if num % 2 == 0]\n",
    "    return even_numbers\n",
    "\n",
    "even_numbers = get_even_numbers()\n",
    "print(\"Even numbers:\", even_numbers)\n"
   ]
  },
  {
   "cell_type": "code",
   "execution_count": 35,
   "id": "008dba02",
   "metadata": {},
   "outputs": [
    {
     "name": "stdout",
     "output_type": "stream",
     "text": [
      "Enter numbers: 1 5 2 3\n",
      "Product of elements: 30\n"
     ]
    }
   ],
   "source": [
    "#Exercise 29\n",
    "\n",
    "def product_lst():\n",
    "    numbers = input(\"Enter numbers: \").split()\n",
    "    numbers = [int(num) for num in numbers]\n",
    "    product = 1\n",
    "    for num in numbers:\n",
    "        product *= num\n",
    "    return product\n",
    "\n",
    "result = product_lst()\n",
    "print(\"Product of elements:\", result)\n"
   ]
  },
  {
   "cell_type": "code",
   "execution_count": 36,
   "id": "c81471c0",
   "metadata": {},
   "outputs": [
    {
     "name": "stdout",
     "output_type": "stream",
     "text": [
      "Enter numbers: 1 4 4 8 2 3 3 9 \n",
      "[1, 4, 8, 2, 3, 9]\n"
     ]
    }
   ],
   "source": [
    "#Exercise 30\n",
    "\n",
    "def get_unique():\n",
    "    input_list = input(\"Enter numbers: \").split()\n",
    "    input_list = [int(num) for num in input_list]\n",
    "    unique_nums = []\n",
    "    for element in input_list:\n",
    "        if element not in unique_nums:\n",
    "            unique_nums.append(element)\n",
    "    return unique_nums\n",
    "\n",
    "unique_nums = get_unique()\n",
    "print(unique_nums)\n"
   ]
  },
  {
   "cell_type": "code",
   "execution_count": 37,
   "id": "dc01ce1a",
   "metadata": {},
   "outputs": [
    {
     "name": "stdout",
     "output_type": "stream",
     "text": [
      "2.0\n"
     ]
    }
   ],
   "source": [
    "#Exercise 31\n",
    "\n",
    "#Write a function to calculate the average of a list of numbers\n",
    "\n",
    "rnd_lst = [1,2,3]\n",
    "def average(rnd_list):\n",
    "    total = sum(rnd_lst)\n",
    "    avg_lst = total/len(rnd_lst)\n",
    "    return avg_lst\n",
    "\n",
    "print(average(rnd_lst))"
   ]
  },
  {
   "cell_type": "code",
   "execution_count": 38,
   "id": "838d1d75",
   "metadata": {},
   "outputs": [
    {
     "name": "stdout",
     "output_type": "stream",
     "text": [
      "fries:2\n",
      "burger:3\n",
      "eggs:2\n",
      "pasta:3\n",
      "pizza:3\n",
      "schnitzel:3\n",
      "salad:3\n",
      "water:3\n",
      "soda:3\n",
      "wine:3\n",
      "lemonade:1\n",
      "steak:1\n"
     ]
    }
   ],
   "source": [
    "#Exercise 32\n",
    "\n",
    "order_list = [\n",
    "'fries', 'burger', 'eggs', 'pasta', 'pizza', 'schnitzel', 'salad', 'water',\n",
    "'soda', 'wine', 'eggs', 'pasta', 'pizza', 'schnitzel','salad','water',\n",
    "'soda', 'wine','pizza', 'schnitzel','soda', 'wine', 'lemonade', 'steak',\n",
    "'pasta','salad','fries', 'burger','water','burger']\n",
    "\n",
    "order_count = {}\n",
    "\n",
    "for order in order_list:\n",
    "    if order in order_count:\n",
    "        order_count[order] += 1\n",
    "    else:\n",
    "        order_count[order] = 1\n",
    "        \n",
    "for order, count in order_count.items():\n",
    "    print(f'{order}:{count}')"
   ]
  },
  {
   "cell_type": "code",
   "execution_count": 39,
   "id": "1fbda802",
   "metadata": {},
   "outputs": [
    {
     "name": "stdout",
     "output_type": "stream",
     "text": [
      "customer 1\n",
      "customer 2\n",
      "customer 3\n",
      "customer 4\n"
     ]
    }
   ],
   "source": [
    "#Exercise 33\n",
    "\n",
    "customers = {\n",
    "'customer 1':{'name': 'John Smith', 'city': 'New York', 'nr_or_purchases': 3, 'items':['coffee', 'cookies', 'milk']},\n",
    "'customer 2':{'name': 'Rebeca Collins', 'city': 'New York', 'nr_or_purchases': 1, 'items':['sugar']},\n",
    "'customer 3':{'name': 'Edward Matthews', 'city': 'Boston', 'nr_or_purchases': 4, 'items':['bananas', 'apples', 'oranges', 'cherries' ]},\n",
    "'customer 4':{'name': 'Maria Simmons', 'city': 'Boston', 'nr_or_purchases': 3, 'items':['ham', 'cheese', 'butter']}}\n",
    "\n",
    "\n",
    "for key in customers.keys():\n",
    "    print(key)"
   ]
  },
  {
   "cell_type": "code",
   "execution_count": 40,
   "id": "a1a74aed",
   "metadata": {},
   "outputs": [
    {
     "name": "stdout",
     "output_type": "stream",
     "text": [
      "['bananas', 'apples', 'oranges', 'cherries', 'berries']\n"
     ]
    }
   ],
   "source": [
    "customers['customer 3']['items'].append('berries')\n",
    "print(customers['customer 3']['items'])"
   ]
  },
  {
   "cell_type": "code",
   "execution_count": 41,
   "id": "f4df9c64",
   "metadata": {},
   "outputs": [
    {
     "name": "stdout",
     "output_type": "stream",
     "text": [
      "{'customer 1': {'name': 'John Smith', 'city': 'New York', 'nr_or_purchases': 3, 'items': ['coffee', 'cookies', 'milk']}, 'customer 2': {'name': 'Rebeca Collins', 'city': 'New York', 'nr_or_purchases': 1, 'items': ['sugar']}, 'customer 3': {'name': 'Edward Matthews', 'city': 'Boston', 'nr_or_purchases': 5, 'items': ['bananas', 'apples', 'oranges', 'cherries', 'berries']}, 'customer 4': {'name': 'Maria Simmons', 'city': 'Boston', 'nr_or_purchases': 3, 'items': ['ham', 'cheese', 'butter']}}\n"
     ]
    }
   ],
   "source": [
    "customers['customer 3']['nr_or_purchases'] = 5\n",
    "print(customers)"
   ]
  },
  {
   "cell_type": "code",
   "execution_count": 42,
   "id": "0c32e2cd",
   "metadata": {},
   "outputs": [
    {
     "name": "stdout",
     "output_type": "stream",
     "text": [
      "{'customer 1': {'name': 'John Smith', 'city': 'New York', 'nr_or_purchases': 3, 'items': ['coffee', 'cookies', 'milk']}, 'customer 3': {'name': 'Edward Matthews', 'city': 'Boston', 'nr_or_purchases': 5, 'items': ['bananas', 'apples', 'oranges', 'cherries', 'berries']}, 'customer 4': {'name': 'Maria Simmons', 'city': 'Boston', 'nr_or_purchases': 3, 'items': ['ham', 'cheese', 'butter']}}\n"
     ]
    }
   ],
   "source": [
    "del customers['customer 2']\n",
    "print(customers)"
   ]
  },
  {
   "cell_type": "code",
   "execution_count": 43,
   "id": "57a8aa6b",
   "metadata": {},
   "outputs": [
    {
     "name": "stdout",
     "output_type": "stream",
     "text": [
      "{'customer 1': {'name': 'John Smith', 'city': 'New York', 'nr_or_purchases': 3, 'items': ['coffee', 'cookies', 'milk']}, 'customer 3': {'name': 'Edward Matthews', 'city': 'Boston', 'nr_or_purchases': 5, 'items': ['bananas', 'apples', 'oranges', 'cherries', 'berries']}, 'customer 4': {'name': 'Maria Simmons', 'city': 'Boston', 'nr_or_purchases': 3, 'items': ['ham', 'cheese', 'butter']}, 'customer 5': {'name': 'Sophia Willis', 'city': 'Alabama', 'nr_or_purchases': 4, 'items': ['sugar', 'milk', 'flour', 'butter']}}\n"
     ]
    }
   ],
   "source": [
    "customers['customer 5'] = {\n",
    "    'name': 'Sophia Willis',\n",
    "    'city': 'Alabama',\n",
    "    'nr_or_purchases': 4,\n",
    "    'items': ['sugar','milk','flour','butter']\n",
    "}\n",
    "\n",
    "print(customers)"
   ]
  },
  {
   "cell_type": "code",
   "execution_count": 44,
   "id": "18fba9b2",
   "metadata": {},
   "outputs": [
    {
     "name": "stdout",
     "output_type": "stream",
     "text": [
      "{'customer 1': {'name': 'John Smith', 'city': 'New York', 'nr_or_purchases': 3, 'items': ['coffee', 'cookies', 'milk'], 'promo': 'coupon'}, 'customer 3': {'name': 'Edward Matthews', 'city': 'Boston', 'nr_or_purchases': 5, 'items': ['bananas', 'apples', 'oranges', 'cherries', 'berries'], 'promo': 'coupon'}, 'customer 4': {'name': 'Maria Simmons', 'city': 'Boston', 'nr_or_purchases': 3, 'items': ['ham', 'cheese', 'butter'], 'promo': 'coupon'}, 'customer 5': {'name': 'Sophia Willis', 'city': 'Alabama', 'nr_or_purchases': 4, 'items': ['sugar', 'milk', 'flour', 'butter'], 'promo': 'coupon'}}\n"
     ]
    }
   ],
   "source": [
    "for customer, info in customers.items():\n",
    "    if info['nr_or_purchases'] >= 3:\n",
    "        info['promo'] = 'coupon'\n",
    "        \n",
    "print(customers)"
   ]
  },
  {
   "cell_type": "code",
   "execution_count": 45,
   "id": "7c243265",
   "metadata": {},
   "outputs": [
    {
     "name": "stdout",
     "output_type": "stream",
     "text": [
      "{'customer 1': {'name': 'John Smith', 'city': 'New York', 'nr_or_purchases': 3, 'items': ['coffee', 'cookies', 'milk'], 'promo': 'coupon'}, 'customer 3': {'name': 'Edward Matthews', 'city': 'Boston', 'nr_or_purchases': 5, 'items': ['bananas', 'apples', 'oranges', 'cherries', 'berries'], 'promo': '10% discount'}, 'customer 4': {'name': 'Maria Simmons', 'city': 'Boston', 'nr_or_purchases': 3, 'items': ['ham', 'cheese', 'butter'], 'promo': '10% discount'}, 'customer 5': {'name': 'Sophia Willis', 'city': 'Alabama', 'nr_or_purchases': 4, 'items': ['sugar', 'milk', 'flour', 'butter'], 'promo': 'coupon'}}\n"
     ]
    }
   ],
   "source": [
    "for customer, info in customers.items():\n",
    "    if info['city'] == 'Boston':\n",
    "        info['promo'] = '10% discount'\n",
    "        \n",
    "print(customers)"
   ]
  },
  {
   "cell_type": "code",
   "execution_count": 46,
   "id": "afc59da0",
   "metadata": {},
   "outputs": [
    {
     "name": "stdout",
     "output_type": "stream",
     "text": [
      "Write a sentence: Hello, My Name Is Stelios\n",
      "Uppercase letters: 5\n",
      "Lowercase letters: 15\n"
     ]
    }
   ],
   "source": [
    "#Exercise 34\n",
    "\n",
    "def count_upper_lower(sentence):\n",
    "    uppercase_count = 0\n",
    "    lowercase_count = 0\n",
    "    for char in sentence:\n",
    "        if char.isupper():\n",
    "            uppercase_count += 1\n",
    "        elif char.islower():\n",
    "            lowercase_count += 1\n",
    "    return uppercase_count, lowercase_count\n",
    "\n",
    "sentence = input(\"Write a sentence: \")\n",
    "\n",
    "uppercase_count, lowercase_count = count_upper_lower(sentence)\n",
    "\n",
    "print(\"Uppercase letters:\", uppercase_count)\n",
    "print(\"Lowercase letters:\", lowercase_count)\n"
   ]
  },
  {
   "cell_type": "code",
   "execution_count": 47,
   "id": "4dc2f1a8",
   "metadata": {},
   "outputs": [
    {
     "name": "stdout",
     "output_type": "stream",
     "text": [
      "[1, 8, 27, 64, 125, 216, 343, 512, 729, 1000]\n"
     ]
    }
   ],
   "source": [
    "#Exercise 35 \n",
    "\n",
    "cube_list = []\n",
    "\n",
    "for n in range(1,11):\n",
    "    cube = n**3\n",
    "    cube_list.append(cube)\n",
    "    \n",
    "print(cube_list)"
   ]
  },
  {
   "cell_type": "code",
   "execution_count": null,
   "id": "403d1f59",
   "metadata": {},
   "outputs": [],
   "source": []
  }
 ],
 "metadata": {
  "kernelspec": {
   "display_name": "Python 3 (ipykernel)",
   "language": "python",
   "name": "python3"
  },
  "language_info": {
   "codemirror_mode": {
    "name": "ipython",
    "version": 3
   },
   "file_extension": ".py",
   "mimetype": "text/x-python",
   "name": "python",
   "nbconvert_exporter": "python",
   "pygments_lexer": "ipython3",
   "version": "3.9.7"
  }
 },
 "nbformat": 4,
 "nbformat_minor": 5
}
